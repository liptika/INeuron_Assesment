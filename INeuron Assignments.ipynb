{
 "cells": [
  {
   "cell_type": "markdown",
   "id": "cee290c3",
   "metadata": {},
   "source": [
    "### 1. Create a function in python to read the text file and replace specific content of the file."
   ]
  },
  {
   "cell_type": "code",
   "execution_count": 6,
   "id": "828b2ab2",
   "metadata": {},
   "outputs": [],
   "source": [
    "#Assigning required variables\n",
    "search_text = 'placement'\n",
    "replace_text = 'screening'\n",
    "data = ''"
   ]
  },
  {
   "cell_type": "code",
   "execution_count": 7,
   "id": "d376bdcd",
   "metadata": {},
   "outputs": [
    {
     "name": "stdout",
     "output_type": "stream",
     "text": [
      "Present File Data:  This is a placement assignment\n",
      "Present File Data:  This is a screening assignment\n"
     ]
    }
   ],
   "source": [
    "#Reading from Files\n",
    "with open(r'example.txt', 'r') as file:\n",
    "    data = file.read()\n",
    "    print(\"Present File Data: \",data)\n",
    "    data = data.replace(search_text,replace_text)\n",
    "    \n",
    "#Writing to Files    \n",
    "with open(r'example.txt', 'w') as file:\n",
    "    file.write(data)\n",
    "    \n",
    "#Checking for Change\n",
    "with open(r'example.txt', 'r') as file:\n",
    "    data = file.read()\n",
    "    print(\"Present File Data: \",data)"
   ]
  },
  {
   "cell_type": "markdown",
   "id": "5be000ae",
   "metadata": {},
   "source": [
    "### 2. Demonstrate use of abstract class, multiple inheritance and decorator in python using examples."
   ]
  },
  {
   "cell_type": "markdown",
   "id": "8110d8bf",
   "metadata": {},
   "source": [
    "#### 1. Abstract Class"
   ]
  },
  {
   "cell_type": "markdown",
   "id": "96bb5d88",
   "metadata": {},
   "source": [
    "In object-oriented programming, an abstract class is a class that cannot be instantiated. However, you can create classes that inherit from an abstract class.\n",
    "Abstract class contains at least one abstract method.\n",
    "Abstract method is a method which has only declaration but not the function implementation.\n",
    "An abstract class can be considered as a blueprint for other classes. It allows you to create a set of methods that must be created within any child classes built from the abstract class.\n",
    "For Eg:"
   ]
  },
  {
   "cell_type": "code",
   "execution_count": 2,
   "id": "e9a72af7",
   "metadata": {},
   "outputs": [
    {
     "name": "stdout",
     "output_type": "stream",
     "text": [
      "I have 2 wheels\n",
      "I have 2 wheels\n",
      "I have 4 wheels\n",
      "I have 3 wheels\n"
     ]
    }
   ],
   "source": [
    "from abc import ABC, abstractmethod\n",
    " \n",
    "class PublicTransport(ABC):\n",
    " \n",
    "    @abstractmethod\n",
    "    def noofwheels(self):\n",
    "        pass\n",
    " \n",
    "class Bicycle(PublicTransport):\n",
    " \n",
    "    # overriding abstract method\n",
    "    def noofwheels(self):\n",
    "        print(\"I have 2 wheels\")\n",
    " \n",
    "class Bike(PublicTransport):\n",
    " \n",
    "    # overriding abstract method\n",
    "    def noofwheels(self):\n",
    "        print(\"I have 2 wheels\")\n",
    " \n",
    "class Car(PublicTransport):\n",
    " \n",
    "    # overriding abstract method\n",
    "    def noofwheels(self):\n",
    "        print(\"I have 4 wheels\")\n",
    " \n",
    "class Auto(PublicTransport):\n",
    " \n",
    "    # overriding abstract method\n",
    "    def noofwheels(self):\n",
    "        print(\"I have 3 wheels\")\n",
    " \n",
    "# Driver code\n",
    "Hero = Bicycle()\n",
    "Hero.noofwheels()\n",
    " \n",
    "Honda = Bike()\n",
    "Honda.noofwheels()\n",
    " \n",
    "Chevrolet = Car()\n",
    "Chevrolet.noofwheels()\n",
    " \n",
    "Auto1 = Auto()\n",
    "Auto1.noofwheels()"
   ]
  },
  {
   "cell_type": "markdown",
   "id": "37743983",
   "metadata": {},
   "source": [
    "#### 2. Multiple Inheritence"
   ]
  },
  {
   "cell_type": "markdown",
   "id": "d0620bba",
   "metadata": {},
   "source": [
    "In OOPs, inheritance is the method to transfer the properties of one class to another class. In this manner, if a class is derived from multiple base class then this phenomenon is called multiple inheritance. Here the derived class possesses all the features of it's parent class.\n",
    "For Eg:"
   ]
  },
  {
   "cell_type": "code",
   "execution_count": 5,
   "id": "922502a2",
   "metadata": {},
   "outputs": [
    {
     "name": "stdout",
     "output_type": "stream",
     "text": [
      "This is Base1\n",
      "This is Base2\n",
      "This is Child\n"
     ]
    }
   ],
   "source": [
    "class Base1:\n",
    "  def status(self):\n",
    "    print('This is Base1')\n",
    "class Base2:\n",
    "  def status2(self):\n",
    "    print('This is Base2')\n",
    "class Child(Base1, Base2):\n",
    "  def status3(self):\n",
    "    print('This is Child')\n",
    "obj1 = Child()\n",
    "obj1.status()\n",
    "obj1.status2()\n",
    "obj1.status3()\n",
    "\n",
    "#Here class Child inherits all properties of class Base1 and Base2. It's an example of multiple inheritance."
   ]
  },
  {
   "cell_type": "markdown",
   "id": "f000f5c2",
   "metadata": {},
   "source": [
    "#### 3. Decorator"
   ]
  },
  {
   "cell_type": "markdown",
   "id": "c1717d81",
   "metadata": {},
   "source": [
    "A decorator in Python is a function that takes another function as an argument and extends its behavior without explicitly modifying it. It is one of the most powerful features of Python. It has several usages in the real world like logging, debugging, authentication, measuring execution time, and many more.\n",
    "\n",
    "For Eg:"
   ]
  },
  {
   "cell_type": "code",
   "execution_count": 6,
   "id": "1e38ba6b",
   "metadata": {},
   "outputs": [
    {
     "name": "stdout",
     "output_type": "stream",
     "text": [
      "This is printed before the function is called\n",
      "Hello! The function is executing\n",
      "This is printed after the function is called\n"
     ]
    }
   ],
   "source": [
    "def decorator(func):\n",
    "  def wrapper():\n",
    "    print(\"This is printed before the function is called\")\n",
    "    func()\n",
    "    print(\"This is printed after the function is called\")\n",
    "  \n",
    "  return wrapper\n",
    "\n",
    "@decorator\n",
    "def say_hello():\n",
    "  print(\"Hello! The function is executing\")\n",
    "\n",
    "\n",
    "say_hello()"
   ]
  }
 ],
 "metadata": {
  "kernelspec": {
   "display_name": "Python 3 (ipykernel)",
   "language": "python",
   "name": "python3"
  },
  "language_info": {
   "codemirror_mode": {
    "name": "ipython",
    "version": 3
   },
   "file_extension": ".py",
   "mimetype": "text/x-python",
   "name": "python",
   "nbconvert_exporter": "python",
   "pygments_lexer": "ipython3",
   "version": "3.9.7"
  }
 },
 "nbformat": 4,
 "nbformat_minor": 5
}
